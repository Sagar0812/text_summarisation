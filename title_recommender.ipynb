{
 "cells": [
  {
   "cell_type": "code",
   "execution_count": 2,
   "metadata": {},
   "outputs": [],
   "source": [
    "import pandas as pd\n",
    "import numpy as np\n",
    "import glob\n",
    "import nltk\n",
    "import json\n",
    "import tensorflow as tf\n",
    "\n",
    "import re\n",
    "import time\n",
    "from tensorflow.python.layers.core import Dense\n",
    "from tensorflow.python.ops.rnn_cell_impl import _zero_state_tensors\n",
    "from pprint import pprint\n",
    "from nltk.corpus import stopwords"
   ]
  },
  {
   "cell_type": "code",
   "execution_count": 20,
   "metadata": {},
   "outputs": [
    {
     "data": {
      "text/plain": [
       "(24755, 3)"
      ]
     },
     "execution_count": 20,
     "metadata": {},
     "output_type": "execute_result"
    }
   ],
   "source": [
    "df = pd.read_csv('Political.csv' , sep='\\t' , encoding='utf-8')\n",
    "articles = pd.DataFrame(df)\n",
    "articles.shape"
   ]
  },
  {
   "cell_type": "code",
   "execution_count": 27,
   "metadata": {
    "scrolled": true
   },
   "outputs": [
    {
     "name": "stdout",
     "output_type": "stream",
     "text": [
      "Article: # 10\n",
      "The Children's Investment Fund Foundation | Opinion - Conservative\n",
      "\n",
      "(Before It's News)\n",
      "The Children's Investment Fund Foundation https://en.wikipedia.org/wiki/The_Children's_Investment_Fund_Foundation The Children's Investment Fund Foundation (UK) ( CIFF ) is a large charitable organization headquartered in London with offices in Nairobi and New Delhi. It is a registered charity in England & Wales and in 2012–13 had an income of £100 million and spending of £98 million. [1] With assets of £2.2 billion, it is the 4th largest charity in the UK . Activities The Clinton Foundation lists CIFF among 7 organisations from which it received more than US$25 million. Children's Investment Fund Foundation Mark Malloch-Brown is a trustee at the Children's Investment Fund Foundation , an advisory council member for the Acumen Fund , a co-chair for the International Crisis Group , a minister of state for the United Kingdom , and the vice chairman for Refugees International . Note: Andrea Soros is a director at the Acumen Fund , and George Soros’s daughter. George Soros is Andrea Soros’s father, a board member for the International Crisis Group , the founder & chairman for the Open Society Foundations , a director emeritus at Refugees International , and was the chairman for the Foundation to Promote Open Society . Open Society Foundations was a funder for the Bill, Hillary & Chelsea Clinton Foundation . Foundation to Promote Open Society was a funder for Refugees International . Children's Investment Fund Foundation was a funder for the Bill, Hillary & Chelsea Clinton Foundation .\n",
      "\n",
      "\n",
      "Article: # 11\n",
      "Local tech industry wants great voice in city politics\n",
      "\n",
      "Local tech industry wants great voice in city politics While tech has become more important to politicians, politics has become more important to tech. Post to Facebook Local tech industry wants great voice in city politics While tech has become more important to politicians, politics has become more important to tech.  //www.king5.com/story/news/politics/city/2015/10/12/local-tech-industry-wants-great-voice-in-city-politics/73847868/   Join the Conversation To   Local tech industry wants great voice in city politics KING 5's Natalie Brand reports Natalie Brand, KING 5 Political Reporter 7:35 p.m. PDT October 12, 2015 While tech has become more important to politicians, politics has become more important to tech. (Photo: KING) CONNECT TWEET LINKEDIN COMMENT EMAIL MORE \n",
      "A candidate's use of technology can make or break a campaign. While tech has become more important to politicians, politics has become more important to tech. \n",
      "\"Initially the digital folks were kinda the people in the back room; we didn't necessarily have a seat at the table, but it's really changed more and more,\" explained Michael Hill of Summit Strategy, which has offices in Seattle and Washington D.C. \n",
      "Hill says presidential races \"push the envelope for what can be done digitally,\" using Howard Dean's 2004 campaign and President Barack Obama's 2008 campaign as examples. \n",
      "Innovations and trends have trickled downstream, becoming the norm for any competitive campaign. \n",
      "\"It doesn't replace that personal contact, but it really is the next best thing,\" Hill said of a robust online and social media strategy. \n",
      "While campaigns have become increasingly reliant on tech, Washington's tech universe recognizes the importance of being plugged into politics. \n",
      "\"We have an obligation and quite frankly a right to actively participate in everything from city council to state legislative elections and in the form of policy that helps this community grow and prosper,\" said Michael Schutzler of the Washington Technology Industry Association. \n",
      "The WTIA , in existence for over 30 years, has watched just a handful of tech giants, such as Microsoft and Aldus, grow into a total of 8,500 tech companies statewide. \n",
      "While the organization has long been involved in policy, there's a new effort to have a greater voice in politics, ahead of the upcoming Seattle City Council elections. All nine seats are up for grabs, as Seattle moves to representation through geographical districts and two at large seats. \n",
      "\"There's a discourse going on in the public domain that sounds really anti-tech,\" said Schutzler who told KING 5 he wants council members to be tech knowledgeable and aware of the economic impact and job creation spawned from the industry. \n",
      "While WTIA considers itself apolitical, it is in the process of evaluating candidates, so board members can educate their voter base on the candidates' positions and interest in the tech industry. \n",
      "\"Having a tech knowledgeable city council is probably the most important, so we can have an open and productive discussion about the pros and cons on everything from traffic to public transit to education,\" Schutzler said. \n",
      "While the tech base represents tens of thousands of potential voters, will they vote? \n",
      "\"It's not fair to characterize the tech industry as being uninvolved. It's more fair to characterize the tech industry as obsessed with launching their products or building their companies,\" said Schutzler. \n",
      "\"We find that there are democrats and there are republicans and there are super activist folks that come in and then there are people who are more apathetic, but that distribution doesn't look any different than it does in the general public,\" he explained. \n",
      "Schutzler even stepped up his own engagement ahead of this upcoming election by canvassing on behalf of two candidates he supports. \n",
      "\"I think there's an opportunity for everyone in the tech industry to do more than just vote, actually participating and supporting the candidates that they believe really would make a big impact.\" Read or Share this story: http://www.king5.com/story/news/politics/city/2015/10/12/local-tech-industry-wants-great-voice-in-city-politics/73847868/ TOP VIDEOS\n",
      "\n",
      "\n",
      "Article: # 12\n",
      "Cameron: let's build national coalition against extremism and hate\n",
      "\n",
      "2 comments \n",
      "DAVID Cameron will today announce that he wants to build a “national coalition” against extremism and hate crime in Britain at the first Community Engagement Forum to be held in Downing Street. \n",
      "The forum, which will include some 30 multi-faith representatives from across the UK, will enable the Prime Minister to hear directly from those leading the fight against extremism as he prepares to publish later this month the UK Government’s Counter-Extremism Strategy. \n",
      "New funding is to be made available to improve security at faith establishments and for the first time police forces south of the Border will be asked to record anti-Muslim hate crimes. \n",
      "Loading article content \n",
      "In Scotland, racial crime remains the most commonly reported hate crime with 3,785 charges reported last year. However, this was the lowest number since 2003/04. Hate crime against disabled people has almost tripled in the last five years. The Scottish Government is to hold a summit aimed at tackling hate crime next week. \n",
      "In July, Mr Cameron announced a five-year strategy to counter extremism and identified four areas which he said attracted people to extremist Islamist ideology. They were: a failure to counter the narrative of extremists; non-violent views that acted as a “gateway” for radicalisation; the drowning out of moderate Muslim voices and a failure to integrate different groups. Promoted stories \n",
      "The PM said: \"I want to build a national coalition to challenge and speak out against extremists and the poison they peddle. Share article \n",
      "\"I want British Muslims to know we will back them to stand against those who spread hate and to counter the narrative which says Muslims do not feel British. And I want police to take more action against those who persecute others simply because of their religion.\" \n",
      "Policies to be brought forward as part of the counter-extremism strategy include: encouraging broadcasters to give more airtime to moderate Muslim voices; cracking down on radicalisation in prisons; incentivising schools to integrate pupils better; challenging extremist preachers at universities; enabling parents to cancel their children’s passports if they are worried they might try to join Isis and pressuring IT companies to remove swiftly any Isis propaganda. Promoted Stories\n",
      "\n",
      "\n",
      "Article: # 13\n",
      "Democratic debate a breakout chance for O'Malley, others\n",
      "\n",
      "October 12, 2015 Democratic debate a breakout chance for O'Malley, others In this photo taken Aug. 28, 2015, Democratic presidential candidate, former Maryland Gov. Martin O'Malley speaks in Minneapolis. The Republican presidential contest has been aflutter for months, with all that preening and cackling from an overcrowded colony of rivals. Now it’s time for the Democrats to spread their wings before a big national audience, with their first debate, Tuesday night. Jim Mone AP Photo FILE - In this Aug. 28, 2015 file photo, Democratic presidential candidate, former Rhode Island Gov. Lincoln Chafee speaks in Minneapolis. The Republican presidential contest has been aflutter for months, with all that preening and cackling from an overcrowded colony of rivals. Now it’s time for the Democrats to spread their wings before a big national audience, with their first debate, Tuesday night. Jim Mone, File AP Photo FILE - In this June 30, 2015 file photo, Democratic presidential candidate, former Virginia Sen. Jim Webb speak in Baltimore. The Republican presidential contest has been aflutter for months, with all that preening and cackling from an overcrowded colony of rivals. Now it’s time for the Democrats to spread their wings before a big national audience, with their first debate, Tuesday night. Patrick Semansky, File AP Photo 1 of 3 Order Reprint of this Story DES MOINES, Iowa \n",
      "Stuck far behind Hillary Rodham Clinton and Bernie Sanders in the race for the Democratic presidential nomination, Martin O'Malley needs a breakout moment in the party's first debate to catch up to the front-runners. \n",
      "And he knows it. \n",
      "\"This will really be the first time that nationally voters see that there's more than one alternative to this year's inevitable front-runner, Secretary Clinton,\" O'Malley said. \n",
      "\"It's a very, very important opportunity for me to not only present my vision for where the country should head, but also 15 years of executive experience, actually accomplishing the progressive things some of the other candidates can only talk about,\" he said. \n",
      "The former governor of Maryland and mayor of Baltimore got into the race at the end of May, after telegraphing for some time his plans to seek the White House in 2016. The entries of the two others who will be onstage Tuesday night in Las Vegas, former Virginia Sen. Jim Webb and former Rhode Island Sen. Lincoln Chafee, were surprises to most. \n",
      "But all three have one thing in common — an inability so far to generate any of the enthusiasm among voters that has pushed Sanders into and kept Clinton at the top of the field. All three poll in low single digits in early preference surveys, well below even Vice President Joe Biden, who has yet to say if he'll make a late entry into the race. \n",
      "O'Malley has been openly critical of the Democratic National Committee and the decision to hold six primary debates, with four scheduled in early primary states before the Iowa caucuses on Feb. 1. He has mounted a push for the party to expand the number, even encouraging protests in front of Democratic Party headquarters. \n",
      "The party hasn't budged, but O'Malley is undaunted. He has campaigned aggressively in Iowa and New Hampshire, far more than Webb or Chafee. He is critical of Clinton for her recent shifts on policy issues, among them her opposition to the Trans-Pacific Partnership trade deal, which he calls a \"reversal.\" \n",
      "O'Malley also touts his executive experience in dealing with issues such as gun control, in which Sanders' record matches more with his largely rural home state than his place in the race as a liberal firebrand promising political revolution. \n",
      "\"We have to draw contrasts,\" O'Malley said. \"I think we can do it in a respectful way.\" \n",
      "Expect Chafee, the former senator and governor from Rhode Island, to go after Clinton for her 2002 vote to authorize the war in Iraq. Chafee, at the time a Republican, opposed the invasion and he's said Clinton's support for the war, which she has more recently called a \"mistake,\" is at the center of his decision to run. \n",
      "Webb, a Vietnam veteran and former Virginia senator, has deep experience on military issues and foreign policy and has been critical of Clinton's handling of the conflict in Libya. Last year he said the Obama administration's unilateral decision to use military force in Libya was improper. \n",
      "One unknown is whether any of her challengers will poke at Clinton for her use of a private email account and server while serving as secretary of state. It's been a constant refrain from the GOP candidates, and the Republican National Committee released a new television ad Monday that focuses on Clinton saying she didn't send any classified information via the server. \n",
      "Neither Chafee nor Webb has campaigned as much as the others in the race, but the highly rated Republican debates have proven that a good night can lift a candidate. Carly Fiorina has emerged as a contender in the GOP race after two strong showings. \n",
      "\"Fiorina was a complete unknown. Jim could make a lot bigger jump than that. It depends how many people are watching the debates,\" said David \"Mudcat\" Saunders, an informal adviser to Webb. \"I'm thinking and hoping and praying by the end of the debate, people are looking at it like a three-horse race.\" \n",
      "Even if they don't boost their own candidacies, less popular contenders can still have an impact on a debate stage. In an October 2007 debate, Clinton's campaign was damaged by her vague answers on providing drivers licenses for undocumented immigrants. One of the candidates who was critical of Clinton was then-Sen. Chris Dodd, who never broke into the top tier. \n",
      "Tom Henderson, chairman of the Polk County Democrats in Iowa, said damage to Clinton could be an \"unintended consequence\" as other candidates try to seize on their chance to stand out. \n",
      "\"The front-runner is usually going to be the target of the other debaters,\" said Henderson, who has not publicly endorsed a candidate. \"She could expect to get some tough questions from one of them on the stage.\" \n",
      "---\n",
      "\n",
      "\n",
      "Article: # 14\n",
      "UN mission in Central African Republic ‘high alert,’ as armed group threatens capital\n",
      "\n",
      "The United Nations Multidimensional Integrated Stabilization Mission in the Central African Republic ( MINUSCA ) has reported that it is on ‘high alert’ as the situation in the war-torn country remains fragile, with armed groups threatening to destabilize its capital city, Bangui .\n",
      "The Mission’s update was provided by Farhan Haq, Deputy Spokesperson for the Secretary-General at the regular press briefing at UN Headquarters, who said that MINUSCA “remains on high alert to prevent any attempts of armed ex-Séléka moving towards the capital, Bangui.”\n",
      "On Saturday in the Kemo prefecture, MINUSCA and Sangaris (French-led) forces “confirmed the presence of approximately 150 ex-Séléka or Front Popularie pour la Renaissance de Centrafrique (FPRC),” said the Deputy Spokesperson.\n",
      "“MINUSCA engaged with their leader, Nourredine Adam in Kaga Bandoro and conveyed a strong message that the International Forces would not accept any movement of the armed groups towards Bangui.”\n",
      "Mr. Haq added that the Mission is “very concerned over what it calls the organized infiltration of several armed groups in Bangui and has condemned all attempts to destabilize Bangui.”\n",
      "“In accordance with its mandate to protect the civilian population from the threat of physical violence, the Mission, with support from Sangaris, has used force in reaction to attacks from FPRC elements around Sibut,” continued the spokesperson.\n",
      "He also noted that, “unknown persons targeted MINUSCA on two occasions on Saturday,” although no casualties were recorded.”\n",
      "“MINUSCA is determined to continue to use all necessary means to protect civilians, strengthen State authority and support the political process,” he said.\n",
      "The ‘ad hoc Committee on elections’ agreed on a preliminary electoral calendar for CAR, which is scheduled to be presented to the National Transitional Council next week.\n",
      "MINUSCA, set up in April 2014 to help bring peace after a breakdown of governmental authority and vicious intercommunal fighting between mainly the Muslim Séléka group and the mainly Christian anti-Balaka movement, currently maintains nearly 11,000 uniformed personnel in the country, one of the world’s poorest.\n",
      "\n",
      "\n"
     ]
    }
   ],
   "source": [
    "# Inspecting some of the articles\n",
    "for i in range(10, 15):\n",
    "    print(\"Article: #\", i)\n",
    "    print(articles.Summary[i])\n",
    "    print()\n",
    "    print(articles.Text[i])\n",
    "    print()\n",
    "    print()"
   ]
  },
  {
   "cell_type": "code",
   "execution_count": null,
   "metadata": {},
   "outputs": [],
   "source": []
  },
  {
   "cell_type": "markdown",
   "metadata": {},
   "source": [
    "PREPROCESSING THE DATA"
   ]
  },
  {
   "cell_type": "code",
   "execution_count": null,
   "metadata": {},
   "outputs": [],
   "source": []
  },
  {
   "cell_type": "code",
   "execution_count": 28,
   "metadata": {},
   "outputs": [],
   "source": [
    "# A list of common contractions used in articles in English\n",
    "contractions = { \n",
    "\"aren't\": \"are not\",\n",
    "\"can't\": \"cannot\",\n",
    "\"can't've\": \"cannot have\",\n",
    "\"'cause\": \"because\",\n",
    "\"could've\": \"could have\",\n",
    "\"couldn't\": \"could not\",\n",
    "\"couldn't've\": \"could not have\",\n",
    "\"didn't\": \"did not\",\n",
    "\"doesn't\": \"does not\",\n",
    "\"don't\": \"do not\",\n",
    "\"hadn't\": \"had not\",\n",
    "\"hadn't've\": \"had not have\",\n",
    "\"hasn't\": \"has not\",\n",
    "\"haven't\": \"have not\",\n",
    "\"he'd\": \"he would\",\n",
    "\"he'd've\": \"he would have\",\n",
    "\"he'll\": \"he will\",\n",
    "\"he's\": \"he is\",\n",
    "\"how'd\": \"how did\",\n",
    "\"how'll\": \"how will\",\n",
    "\"how's\": \"how is\",\n",
    "\"i'd\": \"i would\",\n",
    "\"i'll\": \"i will\",\n",
    "\"i'm\": \"i am\",\n",
    "\"i've\": \"i have\",\n",
    "\"isn't\": \"is not\",\n",
    "\"it'd\": \"it would\",\n",
    "\"it'll\": \"it will\",\n",
    "\"it's\": \"it is\",\n",
    "\"let's\": \"let us\",\n",
    "\"ma'am\": \"madam\",\n",
    "\"mayn't\": \"may not\",\n",
    "\"might've\": \"might have\",\n",
    "\"mightn't\": \"might not\",\n",
    "\"must've\": \"must have\",\n",
    "\"mustn't\": \"must not\",\n",
    "\"needn't\": \"need not\",\n",
    "\"oughtn't\": \"ought not\",\n",
    "\"shan't\": \"shall not\",\n",
    "\"sha'n't\": \"shall not\",\n",
    "\"she'd\": \"she would\",\n",
    "\"she'll\": \"she will\",\n",
    "\"she's\": \"she is\",\n",
    "\"should've\": \"should have\",\n",
    "\"shouldn't\": \"should not\",\n",
    "\"that'd\": \"that would\",\n",
    "\"that's\": \"that is\",\n",
    "\"there'd\": \"there had\",\n",
    "\"there's\": \"there is\",\n",
    "\"they'd\": \"they would\",\n",
    "\"they'll\": \"they will\",\n",
    "\"they're\": \"they are\",\n",
    "\"they've\": \"they have\",\n",
    "\"wasn't\": \"was not\",\n",
    "\"we'd\": \"we would\",\n",
    "\"we'll\": \"we will\",\n",
    "\"we're\": \"we are\",\n",
    "\"we've\": \"we have\",\n",
    "\"weren't\": \"were not\",\n",
    "\"what'll\": \"what will\",\n",
    "\"what're\": \"what are\",\n",
    "\"what's\": \"what is\",\n",
    "\"what've\": \"what have\",\n",
    "\"where'd\": \"where did\",\n",
    "\"where's\": \"where is\",\n",
    "\"who'll\": \"who will\",\n",
    "\"who's\": \"who is\",\n",
    "\"won't\": \"will not\",\n",
    "\"wouldn't\": \"would not\",\n",
    "\"you'd\": \"you would\",\n",
    "\"you'll\": \"you will\",\n",
    "\"you're\": \"you are\"\n",
    "}"
   ]
  },
  {
   "cell_type": "code",
   "execution_count": 36,
   "metadata": {},
   "outputs": [],
   "source": [
    "def clean_text(text, remove_stopwords = True, is_summary = False):\n",
    "    ''' This function is used to remove unwanted characters, stopwords\n",
    "        and format the text to create fewer nulls word embeddings '''\n",
    "    \n",
    "    #Convert all words to lower case\n",
    "    text = text.lower()\n",
    "    \n",
    "    #Replace contractions with their grammatically forms \n",
    "    if True:\n",
    "        text = text.split()\n",
    "        new_text = []\n",
    "        \n",
    "        for word in text:    \n",
    "            if word in contractions:\n",
    "                new_text.append(contractions[word])\n",
    "            else:\n",
    "                new_text.append(word)\n",
    "        text = \" \".join(new_text)\n",
    "    \n",
    "    #Format the words formed and remove unwanted characters\n",
    "    text = re.sub(r'https?:\\/\\/.*[\\r]', '', text, flags=re.MULTILINE)\n",
    "    text = re.sub(r'\\<a href', ' ', text)\n",
    "    text = re.sub(r'&amp;', '', text) \n",
    "    text = re.sub(r'<br />', ' ', text)\n",
    "    text = re.sub(r'\\'', ' ', text)\n",
    "    \n",
    "    if is_summary == False:\n",
    "        text = re.sub(r'[_\"\\-;%()|+&=*%.,!?:#$@\\[\\]/]', ' ', text)\n",
    "    \n",
    "    # Optionally, remove stop words\n",
    "    if remove_stopwords:\n",
    "        text = text.split()\n",
    "        stops = set(stopwords.words(\"english\"))\n",
    "        text = [w for w in text if not w in stops]\n",
    "        text = \" \".join(text)\n",
    "        \n",
    "    ''' This option is provided so that the function can be reused for text and summary cleaning\n",
    "        Keeping stopwords in the generated summary is to make them sound like natural phrases '''\n",
    "\n",
    "    \n",
    "    \n",
    "    n_t = text.split()\n",
    "    n_t = n_t[:120]\n",
    "    \n",
    "    return \" \".join(n_t)"
   ]
  },
  {
   "cell_type": "code",
   "execution_count": 37,
   "metadata": {},
   "outputs": [
    {
     "name": "stdout",
     "output_type": "stream",
     "text": [
      "Summaries are completely cleaned.\n",
      "Texts are completely cleaned.\n"
     ]
    }
   ],
   "source": [
    "#Clean the summaries and texts\n",
    "\n",
    "article_count = 0\n",
    "clean_summaries = []\n",
    "for summary in articles.Summary:        \n",
    "    clean_summaries.append( clean_text(summary, remove_stopwords=False, is_summary=True) )\n",
    "    article_count +=1 \n",
    "    if article_count==7501:\n",
    "        break\n",
    "    #lean_summaries.append(summary)\n",
    "    \n",
    "print(\"Summaries are completely cleaned.\")\n",
    "\n",
    "article_count = 0\n",
    "clean_texts = []\n",
    "for text in articles.Text:\n",
    "    clean_texts.append( clean_text(text) )\n",
    "    article_count +=1 \n",
    "    if article_count==7501:\n",
    "        break\n",
    "print(\"Texts are completely cleaned.\")"
   ]
  },
  {
   "cell_type": "code",
   "execution_count": 38,
   "metadata": {
    "scrolled": true
   },
   "outputs": [
    {
     "name": "stdout",
     "output_type": "stream",
     "text": [
      "Cleaned Article: # 10\n",
      "the children s investment fund foundation | opinion - conservative\n",
      "\n",
      "news children investment fund foundation https en wikipedia org wiki children investment fund foundation children investment fund foundation uk ciff large charitable organization headquartered london offices nairobi new delhi registered charity england wales 2012–13 income £100 million spending £98 million 1 assets £2 2 billion 4th largest charity uk activities clinton foundation lists ciff among 7 organisations received us 25 million children investment fund foundation mark malloch brown trustee children investment fund foundation advisory council member acumen fund co chair international crisis group minister state united kingdom vice chairman refugees international note andrea soros director acumen fund george soros’s daughter george soros andrea soros’s father board member international crisis group founder chairman open society foundations director emeritus refugees international chairman\n",
      "\n",
      "\n",
      "Cleaned Article: # 11\n",
      "local tech industry wants great voice in city politics\n",
      "\n",
      "local tech industry wants great voice city politics tech become important politicians politics become important tech post facebook local tech industry wants great voice city politics tech become important politicians politics become important tech www king5 com story news politics city 2015 10 12 local tech industry wants great voice city politics 73847868 join conversation local tech industry wants great voice city politics king 5 natalie brand reports natalie brand king 5 political reporter 7 35 p pdt october 12 2015 tech become important politicians politics become important tech photo king connect tweet linkedin comment email candidate use technology make break campaign tech become important politicians politics become important tech initially digital folks kinda people back room necessarily seat table\n",
      "\n",
      "\n",
      "Cleaned Article: # 12\n",
      "cameron: let us build national coalition against extremism and hate\n",
      "\n",
      "2 comments david cameron today announce wants build “national coalition” extremism hate crime britain first community engagement forum held downing street forum include 30 multi faith representatives across uk enable prime minister hear directly leading fight extremism prepares publish later month uk government’s counter extremism strategy new funding made available improve security faith establishments first time police forces south border asked record anti muslim hate crimes loading article content scotland racial crime remains commonly reported hate crime 3 785 charges reported last year however lowest number since 2003 04 hate crime disabled people almost tripled last five years scottish government hold summit aimed tackling hate crime next week july mr cameron announced five year strategy counter extremism identified four areas\n",
      "\n",
      "\n",
      "Cleaned Article: # 13\n",
      "democratic debate a breakout chance for o malley, others\n",
      "\n",
      "october 12 2015 democratic debate breakout chance malley others photo taken aug 28 2015 democratic presidential candidate former maryland gov martin malley speaks minneapolis republican presidential contest aflutter months preening cackling overcrowded colony rivals it’s time democrats spread wings big national audience first debate tuesday night jim mone ap photo file aug 28 2015 file photo democratic presidential candidate former rhode island gov lincoln chafee speaks minneapolis republican presidential contest aflutter months preening cackling overcrowded colony rivals it’s time democrats spread wings big national audience first debate tuesday night jim mone file ap photo file june 30 2015 file photo democratic presidential candidate former virginia sen jim webb speak baltimore republican presidential contest aflutter months preening cackling overcrowded colony rivals\n",
      "\n",
      "\n",
      "Cleaned Article: # 14\n",
      "un mission in central african republic ‘high alert,’ as armed group threatens capital\n",
      "\n",
      "united nations multidimensional integrated stabilization mission central african republic minusca reported ‘high alert’ situation war torn country remains fragile armed groups threatening destabilize capital city bangui mission’s update provided farhan haq deputy spokesperson secretary general regular press briefing un headquarters said minusca “remains high alert prevent attempts armed ex séléka moving towards capital bangui ” saturday kemo prefecture minusca sangaris french led forces “confirmed presence approximately 150 ex séléka front popularie pour la renaissance de centrafrique fprc ” said deputy spokesperson “minusca engaged leader nourredine adam kaga bandoro conveyed strong message international forces would accept movement armed groups towards bangui ” mr haq added mission “very concerned calls organized infiltration several armed groups bangui condemned attempts destabilize bangui ” “in\n",
      "\n",
      "\n"
     ]
    }
   ],
   "source": [
    "# Inspect the cleaned summaries and texts to ensure they have been cleaned as per needed\n",
    "for i in range(10,15):\n",
    "    print(\"Cleaned Article: #\",i)\n",
    "    print(clean_summaries[i])\n",
    "    print()\n",
    "    print(clean_texts[i])\n",
    "    print()\n",
    "    print()"
   ]
  },
  {
   "cell_type": "code",
   "execution_count": 39,
   "metadata": {},
   "outputs": [],
   "source": [
    "# Count the number of occurrences of each word in the text\n",
    "\n",
    "def count_words(count_dict, text):\n",
    "    for sentence in text:\n",
    "        for word in sentence.split():\n",
    "            if word not in count_dict:\n",
    "                count_dict[word] = 1\n",
    "            else:\n",
    "                count_dict[word] += 1"
   ]
  },
  {
   "cell_type": "code",
   "execution_count": 40,
   "metadata": {},
   "outputs": [
    {
     "name": "stdout",
     "output_type": "stream",
     "text": [
      "Size of Vocabulary: 50231\n"
     ]
    }
   ],
   "source": [
    "# Determine the collective size of the vocabulary formed\n",
    "word_counts = {}\n",
    "\n",
    "count_words(word_counts, clean_summaries)\n",
    "count_words(word_counts, clean_texts)\n",
    "            \n",
    "print(\"Size of Vocabulary:\", len(word_counts))"
   ]
  },
  {
   "cell_type": "code",
   "execution_count": 42,
   "metadata": {},
   "outputs": [
    {
     "name": "stdout",
     "output_type": "stream",
     "text": [
      "Total number of word embeddings: 417195\n"
     ]
    }
   ],
   "source": [
    "# Load Conceptnet Numberbatch's (CN) embeddings\n",
    "''' (https://github.com/commonsense/conceptnet-numberbatch) '''\n",
    "\n",
    "embeddings_index = {}\n",
    "with open('./numberbatch-en.txt', encoding='utf-8') as cn:\n",
    "    for line in cn:\n",
    "        values = line.split(' ')\n",
    "        word = values[0]\n",
    "        embedding = np.asarray(values[1:], dtype='float32')\n",
    "        embeddings_index[word] = embedding\n",
    "\n",
    "    \n",
    "print('Total number of word embeddings:', len(embeddings_index))"
   ]
  },
  {
   "cell_type": "code",
   "execution_count": 44,
   "metadata": {},
   "outputs": [
    {
     "name": "stdout",
     "output_type": "stream",
     "text": [
      "Number of words missing from CN: 645\n",
      "Percent of words that are missing from the vocabulary: 1.28%\n"
     ]
    }
   ],
   "source": [
    "# And hence find the number of words that are missing from CN, but are used more than a threshold number of times\n",
    "\n",
    "missing_words = 0\n",
    "threshold = 10\n",
    "mw = []\n",
    "\n",
    "for word, count in word_counts.items():\n",
    "    if count > threshold:\n",
    "        if word not in embeddings_index:\n",
    "            mw.append(word)\n",
    "            missing_words += 1\n",
    "            \n",
    "missing_percentage = round(missing_words/len(word_counts),4)*100\n",
    "            \n",
    "print(\"Number of words missing from CN:\", missing_words)\n",
    "print(\"Percent of words that are missing from the vocabulary: {}%\".format(missing_percentage))\n"
   ]
  },
  {
   "cell_type": "code",
   "execution_count": 45,
   "metadata": {},
   "outputs": [
    {
     "name": "stdout",
     "output_type": "stream",
     "text": [
      "Total number of unique words: 50231\n",
      "Number of words we will use: 32794\n",
      "Percent of words we will use: 65.29%\n"
     ]
    }
   ],
   "source": [
    "# Limit the vocabulary that we will use to only words that appear more than the threshold number of times\n",
    "# New dictionary for words converted to integers\n",
    "\n",
    "vocab_to_int = {} \n",
    "\n",
    "value = 0\n",
    "for word, count in word_counts.items():\n",
    "    if count >= 10 or word in embeddings_index:\n",
    "        vocab_to_int[word] = value\n",
    "        value += 1\n",
    "\n",
    "# Special tokens that will be added to the vocabulary\n",
    "spec_codes = [\"<UNK>\",\"<PAD>\",\"<EOS>\",\"<GO>\"]   \n",
    "\n",
    "# Add these codes to the vocabulary\n",
    "for code in spec_codes:\n",
    "    vocab_to_int[code] = len(vocab_to_int)\n",
    "\n",
    "# Dictionary to convert integers back to words\n",
    "int_to_vocab = {}\n",
    "for word, value in vocab_to_int.items():\n",
    "    int_to_vocab[value] = word\n",
    "\n",
    "usage_percentage = round( len(vocab_to_int)/len(word_counts), 4 )*100\n",
    "\n",
    "print(\"Total number of unique words:\", len(word_counts))\n",
    "print(\"Number of words we will use:\", len(vocab_to_int))\n",
    "print(\"Percent of words we will use: {}%\".format(usage_percentage))"
   ]
  },
  {
   "cell_type": "code",
   "execution_count": 47,
   "metadata": {},
   "outputs": [
    {
     "name": "stdout",
     "output_type": "stream",
     "text": [
      "32794\n"
     ]
    }
   ],
   "source": [
    "# Need to use 300 for embedding dimensions to match CN's vectors.\n",
    "embedding_dim = 300\n",
    "nb_words = len(vocab_to_int)\n",
    "\n",
    "# Create matrix with default values of zero\n",
    "word_embedding_matrix = np.zeros((nb_words, embedding_dim), dtype=np.float32)\n",
    "for word, i in vocab_to_int.items():\n",
    "    if word in embeddings_index:\n",
    "        word_embedding_matrix[i] = embeddings_index[word]\n",
    "    else:\n",
    "        # Create a random embedding for words not in dictionary\n",
    "        new_embedding = np.array(np.random.uniform(-1.0, 1.0, embedding_dim))\n",
    "        embeddings_index[word] = new_embedding\n",
    "        word_embedding_matrix[i] = new_embedding\n",
    "\n",
    "# Just to check if value matches len(vocab_to_int)\n",
    "print(len(word_embedding_matrix))"
   ]
  },
  {
   "cell_type": "code",
   "execution_count": 48,
   "metadata": {},
   "outputs": [],
   "source": [
    "'''Convert words in text to an integer.\n",
    "   If word is not in vocab_to_int, use UNK's integer.\n",
    "   Finslly, add EOS token to the end of texts'''\n",
    "\n",
    "def convert_to_ints(text, word_count, unk_count, eos=False):\n",
    "    ints = []\n",
    "    for sentence in text:\n",
    "        sentence_ints = []\n",
    "        for word in sentence.split():\n",
    "            word_count += 1\n",
    "            if word in vocab_to_int:\n",
    "                sentence_ints.append(vocab_to_int[word])\n",
    "            else:\n",
    "                sentence_ints.append(vocab_to_int[\"<UNK>\"])\n",
    "                unk_count += 1\n",
    "        if eos:\n",
    "            sentence_ints.append(vocab_to_int[\"<EOS>\"])\n",
    "        ints.append(sentence_ints)\n",
    "    return ints, word_count, unk_count"
   ]
  },
  {
   "cell_type": "code",
   "execution_count": 50,
   "metadata": {},
   "outputs": [
    {
     "name": "stdout",
     "output_type": "stream",
     "text": [
      "Total number of words in titles: 888037\n",
      "Total number of UNKs in titles: 29621\n",
      "Percent of words that are UNK: 3.34%\n"
     ]
    }
   ],
   "source": [
    "# Apply convert_to_ints to clean_summaries and clean_texts\n",
    "word_count = 0\n",
    "unk_count = 0\n",
    "\n",
    "int_summaries, word_count, unk_count = convert_to_ints(clean_summaries, word_count, unk_count)\n",
    "int_texts, word_count, unk_count = convert_to_ints(clean_texts, word_count, unk_count, eos=True)\n",
    "\n",
    "unk_percent = round( unk_count/word_count, 4 )*100\n",
    "\n",
    "print(\"Total number of words in titles:\", word_count)\n",
    "print(\"Total number of UNKs in titles:\", unk_count)\n",
    "print(\"Percent of words that are UNK: {}%\".format(unk_percent))"
   ]
  },
  {
   "cell_type": "code",
   "execution_count": 61,
   "metadata": {},
   "outputs": [],
   "source": [
    "# To count the number of time <UNK> appears in a sentence\n",
    "def unk_counter(sentence):\n",
    "    unk_count = 0\n",
    "    for word in sentence:\n",
    "        if word == vocab_to_int[\"<UNK>\"]:\n",
    "            unk_count += 1\n",
    "    return unk_count"
   ]
  },
  {
   "cell_type": "code",
   "execution_count": 62,
   "metadata": {},
   "outputs": [],
   "source": [
    "# Create a data frame of the lengths of sentences from a text\n",
    "\n",
    "def get_lengths(text):\n",
    "    lengths = []\n",
    "    for sentence in text:\n",
    "        lengths.append(len(sentence))\n",
    "        \n",
    "    return pd.DataFrame(lengths, columns=['counts'])"
   ]
  },
  {
   "cell_type": "code",
   "execution_count": 63,
   "metadata": {},
   "outputs": [
    {
     "name": "stdout",
     "output_type": "stream",
     "text": [
      "Summaries:\n",
      "            counts\n",
      "count  7501.000000\n",
      "mean      9.510599\n",
      "std       3.184303\n",
      "min       1.000000\n",
      "25%       8.000000\n",
      "50%       9.000000\n",
      "75%      11.000000\n",
      "max      46.000000\n",
      "\n",
      "Texts:\n",
      "            counts\n",
      "count  7501.000000\n",
      "mean    109.878550\n",
      "std      24.126147\n",
      "min      15.000000\n",
      "25%     121.000000\n",
      "50%     121.000000\n",
      "75%     121.000000\n",
      "max     121.000000\n",
      "\n"
     ]
    }
   ],
   "source": [
    "lengths_summaries = get_lengths(int_summaries)\n",
    "lengths_texts = get_lengths(int_texts)\n",
    "\n",
    "print(\"Summaries:\")\n",
    "print(lengths_summaries.describe())\n",
    "print()\n",
    "print(\"Texts:\")\n",
    "print(lengths_texts.describe())\n",
    "print()"
   ]
  },
  {
   "cell_type": "code",
   "execution_count": 64,
   "metadata": {},
   "outputs": [
    {
     "name": "stdout",
     "output_type": "stream",
     "text": [
      "60% summaries: 10.0\n",
      "75% summaries: 11.0\n",
      "90% summaries: 14.0\n",
      "\n",
      "60% texts: 121.0\n",
      "75% texts: 121.0\n",
      "90% texts: 121.0\n"
     ]
    }
   ],
   "source": [
    "# Inspect the length of summaries\n",
    "print(\"60% summaries:\", np.percentile(lengths_summaries.counts, 60))\n",
    "print(\"75% summaries:\", np.percentile(lengths_summaries.counts, 75))\n",
    "print(\"90% summaries:\", np.percentile(lengths_summaries.counts, 90))\n",
    "print()\n",
    "# Inspect the length of texts\n",
    "print(\"60% texts:\", np.percentile(lengths_texts.counts, 60))\n",
    "print(\"75% texts:\", np.percentile(lengths_texts.counts, 75))\n",
    "print(\"90% texts:\", np.percentile(lengths_texts.counts, 90))"
   ]
  },
  {
   "cell_type": "code",
   "execution_count": 66,
   "metadata": {},
   "outputs": [
    {
     "name": "stdout",
     "output_type": "stream",
     "text": [
      "Summaries: 3097\n",
      "Texts: 3097\n"
     ]
    }
   ],
   "source": [
    "# Sort the summaries and texts by increasing order of the length of the texts\n",
    "# Limit the length of summaries and texts based on the min and max ranges.\n",
    "# Remove articles that include too many UNKs\n",
    "\n",
    "sorted_summaries = []\n",
    "sorted_texts = []\n",
    "max_text_length = 122\n",
    "max_summary_length = 15\n",
    "min_length = 2\n",
    "\n",
    "unk_text_limit = 5\n",
    "unk_summary_limit = 0\n",
    "for length in range(min(lengths_texts.counts), max_text_length): \n",
    "    for count, words in enumerate(int_summaries):\n",
    "        if (len(int_summaries[count]) >= min_length and\n",
    "            len(int_summaries[count]) <= max_summary_length and\n",
    "            len(int_texts[count]) >= min_length and\n",
    "            unk_counter(int_summaries[count]) <= unk_summary_limit and\n",
    "            unk_counter(int_texts[count]) <= unk_text_limit and\n",
    "            length == len(int_texts[count])\n",
    "           ):\n",
    "                sorted_summaries.append(int_summaries[count])\n",
    "                sorted_texts.append(int_texts[count])\n",
    "        \n",
    "# Compare lengths of texts and summaries just to ensure they match\n",
    "print(\"Summaries:\", len(sorted_summaries))\n",
    "print(\"Texts:\", len(sorted_texts))"
   ]
  },
  {
   "cell_type": "code",
   "execution_count": null,
   "metadata": {},
   "outputs": [],
   "source": []
  },
  {
   "cell_type": "markdown",
   "metadata": {},
   "source": [
    "BUILDING THE MODEL"
   ]
  },
  {
   "cell_type": "code",
   "execution_count": null,
   "metadata": {},
   "outputs": [],
   "source": [
    "# Create placeholders for the inputs to the model\n",
    "\n",
    "def model_inputs():\n",
    "    input_data = tf.placeholder(tf.int32, [None, None], name='input')\n",
    "    targets = tf.placeholder(tf.int32, [None, None], name='targets')\n",
    "    lr = tf.placeholder(tf.float32, name='learning_rate')\n",
    "    keep_prob = tf.placeholder(tf.float32, name='keep_prob')\n",
    "    summary_length = tf.placeholder(tf.int32, (None,), name='summary_length')\n",
    "    max_summary_length = tf.reduce_max(summary_length, name='max_dec_len')\n",
    "    text_length = tf.placeholder(tf.int32, (None,), name='text_length')\n",
    "\n",
    "    return input_data, targets, lr, keep_prob, summary_length, max_summary_length, text_length"
   ]
  }
 ],
 "metadata": {
  "kernelspec": {
   "display_name": "Python 3",
   "language": "python",
   "name": "python3"
  },
  "language_info": {
   "codemirror_mode": {
    "name": "ipython",
    "version": 3
   },
   "file_extension": ".py",
   "mimetype": "text/x-python",
   "name": "python",
   "nbconvert_exporter": "python",
   "pygments_lexer": "ipython3",
   "version": "3.6.5"
  }
 },
 "nbformat": 4,
 "nbformat_minor": 2
}
